{
  "nbformat": 4,
  "nbformat_minor": 0,
  "metadata": {
    "colab": {
      "name": "musknonmusk (1).ipynb",
      "provenance": [],
      "collapsed_sections": []
    },
    "kernelspec": {
      "name": "python3",
      "display_name": "Python 3"
    }
  },
  "cells": [
    {
      "cell_type": "code",
      "metadata": {
        "id": "6_Z0jOON24P5",
        "colab_type": "code",
        "colab": {}
      },
      "source": [
        "import numpy as np\n",
        "import pandas as pd\n",
        "import matplotlib.pyplot as plt\n",
        "from sklearn.metrics import f1_score, precision_score, recall_score"
      ],
      "execution_count": 0,
      "outputs": []
    },
    {
      "cell_type": "markdown",
      "metadata": {
        "id": "Xs4Qt6q8hXNj",
        "colab_type": "text"
      },
      "source": [
        "Read the data"
      ]
    },
    {
      "cell_type": "code",
      "metadata": {
        "id": "Fj6_rGjz2_mm",
        "colab_type": "code",
        "colab": {}
      },
      "source": [
        "data = pd.read_csv('musk_csv.csv')"
      ],
      "execution_count": 0,
      "outputs": []
    },
    {
      "cell_type": "code",
      "metadata": {
        "id": "P3FWd5WM3YjU",
        "colab_type": "code",
        "outputId": "06d1f260-bbd4-42ca-ba0a-e67e69ef2df0",
        "colab": {
          "base_uri": "https://localhost:8080/",
          "height": 244
        }
      },
      "source": [
        "data.head()"
      ],
      "execution_count": 0,
      "outputs": [
        {
          "output_type": "execute_result",
          "data": {
            "text/html": [
              "<div>\n",
              "<style scoped>\n",
              "    .dataframe tbody tr th:only-of-type {\n",
              "        vertical-align: middle;\n",
              "    }\n",
              "\n",
              "    .dataframe tbody tr th {\n",
              "        vertical-align: top;\n",
              "    }\n",
              "\n",
              "    .dataframe thead th {\n",
              "        text-align: right;\n",
              "    }\n",
              "</style>\n",
              "<table border=\"1\" class=\"dataframe\">\n",
              "  <thead>\n",
              "    <tr style=\"text-align: right;\">\n",
              "      <th></th>\n",
              "      <th>ID</th>\n",
              "      <th>molecule_name</th>\n",
              "      <th>conformation_name</th>\n",
              "      <th>f1</th>\n",
              "      <th>f2</th>\n",
              "      <th>f3</th>\n",
              "      <th>f4</th>\n",
              "      <th>f5</th>\n",
              "      <th>f6</th>\n",
              "      <th>f7</th>\n",
              "      <th>f8</th>\n",
              "      <th>f9</th>\n",
              "      <th>f10</th>\n",
              "      <th>f11</th>\n",
              "      <th>f12</th>\n",
              "      <th>f13</th>\n",
              "      <th>f14</th>\n",
              "      <th>f15</th>\n",
              "      <th>f16</th>\n",
              "      <th>f17</th>\n",
              "      <th>f18</th>\n",
              "      <th>f19</th>\n",
              "      <th>f20</th>\n",
              "      <th>f21</th>\n",
              "      <th>f22</th>\n",
              "      <th>f23</th>\n",
              "      <th>f24</th>\n",
              "      <th>f25</th>\n",
              "      <th>f26</th>\n",
              "      <th>f27</th>\n",
              "      <th>f28</th>\n",
              "      <th>f29</th>\n",
              "      <th>f30</th>\n",
              "      <th>f31</th>\n",
              "      <th>f32</th>\n",
              "      <th>f33</th>\n",
              "      <th>f34</th>\n",
              "      <th>f35</th>\n",
              "      <th>f36</th>\n",
              "      <th>f37</th>\n",
              "      <th>...</th>\n",
              "      <th>f128</th>\n",
              "      <th>f129</th>\n",
              "      <th>f130</th>\n",
              "      <th>f131</th>\n",
              "      <th>f132</th>\n",
              "      <th>f133</th>\n",
              "      <th>f134</th>\n",
              "      <th>f135</th>\n",
              "      <th>f136</th>\n",
              "      <th>f137</th>\n",
              "      <th>f138</th>\n",
              "      <th>f139</th>\n",
              "      <th>f140</th>\n",
              "      <th>f141</th>\n",
              "      <th>f142</th>\n",
              "      <th>f143</th>\n",
              "      <th>f144</th>\n",
              "      <th>f145</th>\n",
              "      <th>f146</th>\n",
              "      <th>f147</th>\n",
              "      <th>f148</th>\n",
              "      <th>f149</th>\n",
              "      <th>f150</th>\n",
              "      <th>f151</th>\n",
              "      <th>f152</th>\n",
              "      <th>f153</th>\n",
              "      <th>f154</th>\n",
              "      <th>f155</th>\n",
              "      <th>f156</th>\n",
              "      <th>f157</th>\n",
              "      <th>f158</th>\n",
              "      <th>f159</th>\n",
              "      <th>f160</th>\n",
              "      <th>f161</th>\n",
              "      <th>f162</th>\n",
              "      <th>f163</th>\n",
              "      <th>f164</th>\n",
              "      <th>f165</th>\n",
              "      <th>f166</th>\n",
              "      <th>class</th>\n",
              "    </tr>\n",
              "  </thead>\n",
              "  <tbody>\n",
              "    <tr>\n",
              "      <th>0</th>\n",
              "      <td>1</td>\n",
              "      <td>MUSK-211</td>\n",
              "      <td>211_1+1</td>\n",
              "      <td>46</td>\n",
              "      <td>-108</td>\n",
              "      <td>-60</td>\n",
              "      <td>-69</td>\n",
              "      <td>-117</td>\n",
              "      <td>49</td>\n",
              "      <td>38</td>\n",
              "      <td>-161</td>\n",
              "      <td>-8</td>\n",
              "      <td>5</td>\n",
              "      <td>-323</td>\n",
              "      <td>-220</td>\n",
              "      <td>-113</td>\n",
              "      <td>-299</td>\n",
              "      <td>-283</td>\n",
              "      <td>-307</td>\n",
              "      <td>-31</td>\n",
              "      <td>-106</td>\n",
              "      <td>-227</td>\n",
              "      <td>-42</td>\n",
              "      <td>-59</td>\n",
              "      <td>-22</td>\n",
              "      <td>-67</td>\n",
              "      <td>189</td>\n",
              "      <td>81</td>\n",
              "      <td>17</td>\n",
              "      <td>-27</td>\n",
              "      <td>-89</td>\n",
              "      <td>-67</td>\n",
              "      <td>105</td>\n",
              "      <td>-116</td>\n",
              "      <td>124</td>\n",
              "      <td>-106</td>\n",
              "      <td>5</td>\n",
              "      <td>-120</td>\n",
              "      <td>63</td>\n",
              "      <td>-165</td>\n",
              "      <td>...</td>\n",
              "      <td>81</td>\n",
              "      <td>-114</td>\n",
              "      <td>-187</td>\n",
              "      <td>45</td>\n",
              "      <td>-118</td>\n",
              "      <td>-75</td>\n",
              "      <td>-182</td>\n",
              "      <td>-234</td>\n",
              "      <td>-19</td>\n",
              "      <td>12</td>\n",
              "      <td>-13</td>\n",
              "      <td>-41</td>\n",
              "      <td>-119</td>\n",
              "      <td>-149</td>\n",
              "      <td>70</td>\n",
              "      <td>17</td>\n",
              "      <td>-20</td>\n",
              "      <td>-177</td>\n",
              "      <td>-101</td>\n",
              "      <td>-116</td>\n",
              "      <td>-14</td>\n",
              "      <td>-50</td>\n",
              "      <td>24</td>\n",
              "      <td>-81</td>\n",
              "      <td>-125</td>\n",
              "      <td>-114</td>\n",
              "      <td>-44</td>\n",
              "      <td>128</td>\n",
              "      <td>3</td>\n",
              "      <td>-244</td>\n",
              "      <td>-308</td>\n",
              "      <td>52</td>\n",
              "      <td>-7</td>\n",
              "      <td>39</td>\n",
              "      <td>126</td>\n",
              "      <td>156</td>\n",
              "      <td>-50</td>\n",
              "      <td>-112</td>\n",
              "      <td>96</td>\n",
              "      <td>1</td>\n",
              "    </tr>\n",
              "    <tr>\n",
              "      <th>1</th>\n",
              "      <td>2</td>\n",
              "      <td>MUSK-211</td>\n",
              "      <td>211_1+10</td>\n",
              "      <td>41</td>\n",
              "      <td>-188</td>\n",
              "      <td>-145</td>\n",
              "      <td>22</td>\n",
              "      <td>-117</td>\n",
              "      <td>-6</td>\n",
              "      <td>57</td>\n",
              "      <td>-171</td>\n",
              "      <td>-39</td>\n",
              "      <td>-100</td>\n",
              "      <td>-319</td>\n",
              "      <td>-111</td>\n",
              "      <td>-228</td>\n",
              "      <td>-281</td>\n",
              "      <td>-281</td>\n",
              "      <td>-300</td>\n",
              "      <td>54</td>\n",
              "      <td>-149</td>\n",
              "      <td>-98</td>\n",
              "      <td>-196</td>\n",
              "      <td>-27</td>\n",
              "      <td>-22</td>\n",
              "      <td>2</td>\n",
              "      <td>75</td>\n",
              "      <td>49</td>\n",
              "      <td>-34</td>\n",
              "      <td>45</td>\n",
              "      <td>-91</td>\n",
              "      <td>32</td>\n",
              "      <td>95</td>\n",
              "      <td>-116</td>\n",
              "      <td>85</td>\n",
              "      <td>-23</td>\n",
              "      <td>42</td>\n",
              "      <td>-58</td>\n",
              "      <td>61</td>\n",
              "      <td>-171</td>\n",
              "      <td>...</td>\n",
              "      <td>88</td>\n",
              "      <td>-21</td>\n",
              "      <td>-32</td>\n",
              "      <td>32</td>\n",
              "      <td>-128</td>\n",
              "      <td>-72</td>\n",
              "      <td>-124</td>\n",
              "      <td>-218</td>\n",
              "      <td>-94</td>\n",
              "      <td>53</td>\n",
              "      <td>-79</td>\n",
              "      <td>-20</td>\n",
              "      <td>-35</td>\n",
              "      <td>-26</td>\n",
              "      <td>4</td>\n",
              "      <td>50</td>\n",
              "      <td>17</td>\n",
              "      <td>-177</td>\n",
              "      <td>-102</td>\n",
              "      <td>-121</td>\n",
              "      <td>-66</td>\n",
              "      <td>-77</td>\n",
              "      <td>51</td>\n",
              "      <td>-41</td>\n",
              "      <td>-34</td>\n",
              "      <td>-32</td>\n",
              "      <td>-63</td>\n",
              "      <td>115</td>\n",
              "      <td>-5</td>\n",
              "      <td>-235</td>\n",
              "      <td>-59</td>\n",
              "      <td>-2</td>\n",
              "      <td>52</td>\n",
              "      <td>103</td>\n",
              "      <td>136</td>\n",
              "      <td>169</td>\n",
              "      <td>-61</td>\n",
              "      <td>-136</td>\n",
              "      <td>79</td>\n",
              "      <td>1</td>\n",
              "    </tr>\n",
              "    <tr>\n",
              "      <th>2</th>\n",
              "      <td>3</td>\n",
              "      <td>MUSK-211</td>\n",
              "      <td>211_1+11</td>\n",
              "      <td>46</td>\n",
              "      <td>-194</td>\n",
              "      <td>-145</td>\n",
              "      <td>28</td>\n",
              "      <td>-117</td>\n",
              "      <td>73</td>\n",
              "      <td>57</td>\n",
              "      <td>-168</td>\n",
              "      <td>-39</td>\n",
              "      <td>-22</td>\n",
              "      <td>-319</td>\n",
              "      <td>-111</td>\n",
              "      <td>-104</td>\n",
              "      <td>-283</td>\n",
              "      <td>-282</td>\n",
              "      <td>-303</td>\n",
              "      <td>52</td>\n",
              "      <td>-152</td>\n",
              "      <td>-97</td>\n",
              "      <td>-225</td>\n",
              "      <td>-28</td>\n",
              "      <td>-22</td>\n",
              "      <td>2</td>\n",
              "      <td>179</td>\n",
              "      <td>49</td>\n",
              "      <td>-33</td>\n",
              "      <td>46</td>\n",
              "      <td>-88</td>\n",
              "      <td>22</td>\n",
              "      <td>79</td>\n",
              "      <td>-116</td>\n",
              "      <td>19</td>\n",
              "      <td>-11</td>\n",
              "      <td>6</td>\n",
              "      <td>-38</td>\n",
              "      <td>71</td>\n",
              "      <td>-175</td>\n",
              "      <td>...</td>\n",
              "      <td>64</td>\n",
              "      <td>0</td>\n",
              "      <td>-23</td>\n",
              "      <td>-15</td>\n",
              "      <td>-129</td>\n",
              "      <td>-74</td>\n",
              "      <td>-125</td>\n",
              "      <td>-221</td>\n",
              "      <td>-93</td>\n",
              "      <td>53</td>\n",
              "      <td>-72</td>\n",
              "      <td>-19</td>\n",
              "      <td>-33</td>\n",
              "      <td>-26</td>\n",
              "      <td>3</td>\n",
              "      <td>49</td>\n",
              "      <td>17</td>\n",
              "      <td>-177</td>\n",
              "      <td>-102</td>\n",
              "      <td>-119</td>\n",
              "      <td>-66</td>\n",
              "      <td>-81</td>\n",
              "      <td>51</td>\n",
              "      <td>-41</td>\n",
              "      <td>-27</td>\n",
              "      <td>-41</td>\n",
              "      <td>-140</td>\n",
              "      <td>77</td>\n",
              "      <td>-163</td>\n",
              "      <td>-238</td>\n",
              "      <td>-134</td>\n",
              "      <td>-154</td>\n",
              "      <td>57</td>\n",
              "      <td>143</td>\n",
              "      <td>142</td>\n",
              "      <td>165</td>\n",
              "      <td>-67</td>\n",
              "      <td>-145</td>\n",
              "      <td>39</td>\n",
              "      <td>1</td>\n",
              "    </tr>\n",
              "    <tr>\n",
              "      <th>3</th>\n",
              "      <td>4</td>\n",
              "      <td>MUSK-211</td>\n",
              "      <td>211_1+12</td>\n",
              "      <td>41</td>\n",
              "      <td>-188</td>\n",
              "      <td>-145</td>\n",
              "      <td>22</td>\n",
              "      <td>-117</td>\n",
              "      <td>-7</td>\n",
              "      <td>57</td>\n",
              "      <td>-170</td>\n",
              "      <td>-39</td>\n",
              "      <td>-99</td>\n",
              "      <td>-319</td>\n",
              "      <td>-111</td>\n",
              "      <td>-228</td>\n",
              "      <td>-282</td>\n",
              "      <td>-281</td>\n",
              "      <td>-301</td>\n",
              "      <td>54</td>\n",
              "      <td>-150</td>\n",
              "      <td>-98</td>\n",
              "      <td>-196</td>\n",
              "      <td>-28</td>\n",
              "      <td>-22</td>\n",
              "      <td>2</td>\n",
              "      <td>77</td>\n",
              "      <td>48</td>\n",
              "      <td>-34</td>\n",
              "      <td>46</td>\n",
              "      <td>-91</td>\n",
              "      <td>32</td>\n",
              "      <td>94</td>\n",
              "      <td>-116</td>\n",
              "      <td>84</td>\n",
              "      <td>-23</td>\n",
              "      <td>41</td>\n",
              "      <td>-58</td>\n",
              "      <td>62</td>\n",
              "      <td>-171</td>\n",
              "      <td>...</td>\n",
              "      <td>88</td>\n",
              "      <td>-20</td>\n",
              "      <td>-32</td>\n",
              "      <td>32</td>\n",
              "      <td>-128</td>\n",
              "      <td>-73</td>\n",
              "      <td>-125</td>\n",
              "      <td>-220</td>\n",
              "      <td>-93</td>\n",
              "      <td>53</td>\n",
              "      <td>-78</td>\n",
              "      <td>-19</td>\n",
              "      <td>-34</td>\n",
              "      <td>-26</td>\n",
              "      <td>4</td>\n",
              "      <td>50</td>\n",
              "      <td>17</td>\n",
              "      <td>-177</td>\n",
              "      <td>-101</td>\n",
              "      <td>-121</td>\n",
              "      <td>-65</td>\n",
              "      <td>-77</td>\n",
              "      <td>52</td>\n",
              "      <td>-41</td>\n",
              "      <td>-34</td>\n",
              "      <td>-32</td>\n",
              "      <td>-66</td>\n",
              "      <td>115</td>\n",
              "      <td>-7</td>\n",
              "      <td>-236</td>\n",
              "      <td>-60</td>\n",
              "      <td>-4</td>\n",
              "      <td>52</td>\n",
              "      <td>104</td>\n",
              "      <td>136</td>\n",
              "      <td>168</td>\n",
              "      <td>-60</td>\n",
              "      <td>-135</td>\n",
              "      <td>80</td>\n",
              "      <td>1</td>\n",
              "    </tr>\n",
              "    <tr>\n",
              "      <th>4</th>\n",
              "      <td>5</td>\n",
              "      <td>MUSK-211</td>\n",
              "      <td>211_1+13</td>\n",
              "      <td>41</td>\n",
              "      <td>-188</td>\n",
              "      <td>-145</td>\n",
              "      <td>22</td>\n",
              "      <td>-117</td>\n",
              "      <td>-7</td>\n",
              "      <td>57</td>\n",
              "      <td>-170</td>\n",
              "      <td>-39</td>\n",
              "      <td>-99</td>\n",
              "      <td>-319</td>\n",
              "      <td>-111</td>\n",
              "      <td>-228</td>\n",
              "      <td>-282</td>\n",
              "      <td>-281</td>\n",
              "      <td>-301</td>\n",
              "      <td>54</td>\n",
              "      <td>-150</td>\n",
              "      <td>-98</td>\n",
              "      <td>-196</td>\n",
              "      <td>-28</td>\n",
              "      <td>-22</td>\n",
              "      <td>2</td>\n",
              "      <td>78</td>\n",
              "      <td>48</td>\n",
              "      <td>-34</td>\n",
              "      <td>46</td>\n",
              "      <td>-91</td>\n",
              "      <td>31</td>\n",
              "      <td>94</td>\n",
              "      <td>-116</td>\n",
              "      <td>84</td>\n",
              "      <td>-23</td>\n",
              "      <td>41</td>\n",
              "      <td>-58</td>\n",
              "      <td>62</td>\n",
              "      <td>-171</td>\n",
              "      <td>...</td>\n",
              "      <td>88</td>\n",
              "      <td>-20</td>\n",
              "      <td>-32</td>\n",
              "      <td>32</td>\n",
              "      <td>-128</td>\n",
              "      <td>-73</td>\n",
              "      <td>-125</td>\n",
              "      <td>-220</td>\n",
              "      <td>-93</td>\n",
              "      <td>53</td>\n",
              "      <td>-78</td>\n",
              "      <td>-19</td>\n",
              "      <td>-34</td>\n",
              "      <td>-26</td>\n",
              "      <td>4</td>\n",
              "      <td>50</td>\n",
              "      <td>17</td>\n",
              "      <td>-177</td>\n",
              "      <td>-101</td>\n",
              "      <td>-121</td>\n",
              "      <td>-65</td>\n",
              "      <td>-76</td>\n",
              "      <td>52</td>\n",
              "      <td>-41</td>\n",
              "      <td>-34</td>\n",
              "      <td>-32</td>\n",
              "      <td>-66</td>\n",
              "      <td>115</td>\n",
              "      <td>-8</td>\n",
              "      <td>-236</td>\n",
              "      <td>-60</td>\n",
              "      <td>-4</td>\n",
              "      <td>52</td>\n",
              "      <td>104</td>\n",
              "      <td>137</td>\n",
              "      <td>168</td>\n",
              "      <td>-60</td>\n",
              "      <td>-135</td>\n",
              "      <td>80</td>\n",
              "      <td>1</td>\n",
              "    </tr>\n",
              "  </tbody>\n",
              "</table>\n",
              "<p>5 rows × 170 columns</p>\n",
              "</div>"
            ],
            "text/plain": [
              "   ID molecule_name conformation_name  f1   f2  ...  f163  f164  f165  f166  class\n",
              "0   1      MUSK-211           211_1+1  46 -108  ...   156   -50  -112    96      1\n",
              "1   2      MUSK-211          211_1+10  41 -188  ...   169   -61  -136    79      1\n",
              "2   3      MUSK-211          211_1+11  46 -194  ...   165   -67  -145    39      1\n",
              "3   4      MUSK-211          211_1+12  41 -188  ...   168   -60  -135    80      1\n",
              "4   5      MUSK-211          211_1+13  41 -188  ...   168   -60  -135    80      1\n",
              "\n",
              "[5 rows x 170 columns]"
            ]
          },
          "metadata": {
            "tags": []
          },
          "execution_count": 3
        }
      ]
    },
    {
      "cell_type": "code",
      "metadata": {
        "id": "cU2Llq-e45wY",
        "colab_type": "code",
        "outputId": "8ce29a4c-bd4b-45b1-ddd6-4727f44c7df7",
        "colab": {
          "base_uri": "https://localhost:8080/",
          "height": 333
        }
      },
      "source": [
        "data.describe()"
      ],
      "execution_count": 0,
      "outputs": [
        {
          "output_type": "execute_result",
          "data": {
            "text/html": [
              "<div>\n",
              "<style scoped>\n",
              "    .dataframe tbody tr th:only-of-type {\n",
              "        vertical-align: middle;\n",
              "    }\n",
              "\n",
              "    .dataframe tbody tr th {\n",
              "        vertical-align: top;\n",
              "    }\n",
              "\n",
              "    .dataframe thead th {\n",
              "        text-align: right;\n",
              "    }\n",
              "</style>\n",
              "<table border=\"1\" class=\"dataframe\">\n",
              "  <thead>\n",
              "    <tr style=\"text-align: right;\">\n",
              "      <th></th>\n",
              "      <th>ID</th>\n",
              "      <th>f1</th>\n",
              "      <th>f2</th>\n",
              "      <th>f3</th>\n",
              "      <th>f4</th>\n",
              "      <th>f5</th>\n",
              "      <th>f6</th>\n",
              "      <th>f7</th>\n",
              "      <th>f8</th>\n",
              "      <th>f9</th>\n",
              "      <th>f10</th>\n",
              "      <th>f11</th>\n",
              "      <th>f12</th>\n",
              "      <th>f13</th>\n",
              "      <th>f14</th>\n",
              "      <th>f15</th>\n",
              "      <th>f16</th>\n",
              "      <th>f17</th>\n",
              "      <th>f18</th>\n",
              "      <th>f19</th>\n",
              "      <th>f20</th>\n",
              "      <th>f21</th>\n",
              "      <th>f22</th>\n",
              "      <th>f23</th>\n",
              "      <th>f24</th>\n",
              "      <th>f25</th>\n",
              "      <th>f26</th>\n",
              "      <th>f27</th>\n",
              "      <th>f28</th>\n",
              "      <th>f29</th>\n",
              "      <th>f30</th>\n",
              "      <th>f31</th>\n",
              "      <th>f32</th>\n",
              "      <th>f33</th>\n",
              "      <th>f34</th>\n",
              "      <th>f35</th>\n",
              "      <th>f36</th>\n",
              "      <th>f37</th>\n",
              "      <th>f38</th>\n",
              "      <th>f39</th>\n",
              "      <th>...</th>\n",
              "      <th>f128</th>\n",
              "      <th>f129</th>\n",
              "      <th>f130</th>\n",
              "      <th>f131</th>\n",
              "      <th>f132</th>\n",
              "      <th>f133</th>\n",
              "      <th>f134</th>\n",
              "      <th>f135</th>\n",
              "      <th>f136</th>\n",
              "      <th>f137</th>\n",
              "      <th>f138</th>\n",
              "      <th>f139</th>\n",
              "      <th>f140</th>\n",
              "      <th>f141</th>\n",
              "      <th>f142</th>\n",
              "      <th>f143</th>\n",
              "      <th>f144</th>\n",
              "      <th>f145</th>\n",
              "      <th>f146</th>\n",
              "      <th>f147</th>\n",
              "      <th>f148</th>\n",
              "      <th>f149</th>\n",
              "      <th>f150</th>\n",
              "      <th>f151</th>\n",
              "      <th>f152</th>\n",
              "      <th>f153</th>\n",
              "      <th>f154</th>\n",
              "      <th>f155</th>\n",
              "      <th>f156</th>\n",
              "      <th>f157</th>\n",
              "      <th>f158</th>\n",
              "      <th>f159</th>\n",
              "      <th>f160</th>\n",
              "      <th>f161</th>\n",
              "      <th>f162</th>\n",
              "      <th>f163</th>\n",
              "      <th>f164</th>\n",
              "      <th>f165</th>\n",
              "      <th>f166</th>\n",
              "      <th>class</th>\n",
              "    </tr>\n",
              "  </thead>\n",
              "  <tbody>\n",
              "    <tr>\n",
              "      <th>count</th>\n",
              "      <td>6598.00000</td>\n",
              "      <td>6598.000000</td>\n",
              "      <td>6598.000000</td>\n",
              "      <td>6598.000000</td>\n",
              "      <td>6598.000000</td>\n",
              "      <td>6598.000000</td>\n",
              "      <td>6598.000000</td>\n",
              "      <td>6598.000000</td>\n",
              "      <td>6598.000000</td>\n",
              "      <td>6598.000000</td>\n",
              "      <td>6598.000000</td>\n",
              "      <td>6598.000000</td>\n",
              "      <td>6598.000000</td>\n",
              "      <td>6598.000000</td>\n",
              "      <td>6598.000000</td>\n",
              "      <td>6598.000000</td>\n",
              "      <td>6598.000000</td>\n",
              "      <td>6598.000000</td>\n",
              "      <td>6598.000000</td>\n",
              "      <td>6598.000000</td>\n",
              "      <td>6598.000000</td>\n",
              "      <td>6598.000000</td>\n",
              "      <td>6598.000000</td>\n",
              "      <td>6598.000000</td>\n",
              "      <td>6598.000000</td>\n",
              "      <td>6598.000000</td>\n",
              "      <td>6598.000000</td>\n",
              "      <td>6598.000000</td>\n",
              "      <td>6598.000000</td>\n",
              "      <td>6598.000000</td>\n",
              "      <td>6598.000000</td>\n",
              "      <td>6598.000000</td>\n",
              "      <td>6598.000000</td>\n",
              "      <td>6598.000000</td>\n",
              "      <td>6598.000000</td>\n",
              "      <td>6598.000000</td>\n",
              "      <td>6598.000000</td>\n",
              "      <td>6598.000000</td>\n",
              "      <td>6598.000000</td>\n",
              "      <td>6598.000000</td>\n",
              "      <td>...</td>\n",
              "      <td>6598.000000</td>\n",
              "      <td>6598.000000</td>\n",
              "      <td>6598.000000</td>\n",
              "      <td>6598.000000</td>\n",
              "      <td>6598.000000</td>\n",
              "      <td>6598.000000</td>\n",
              "      <td>6598.000000</td>\n",
              "      <td>6598.000000</td>\n",
              "      <td>6598.000000</td>\n",
              "      <td>6598.000000</td>\n",
              "      <td>6598.000000</td>\n",
              "      <td>6598.000000</td>\n",
              "      <td>6598.000000</td>\n",
              "      <td>6598.000000</td>\n",
              "      <td>6598.000000</td>\n",
              "      <td>6598.000000</td>\n",
              "      <td>6598.000000</td>\n",
              "      <td>6598.000000</td>\n",
              "      <td>6598.000000</td>\n",
              "      <td>6598.000000</td>\n",
              "      <td>6598.000000</td>\n",
              "      <td>6598.000000</td>\n",
              "      <td>6598.000000</td>\n",
              "      <td>6598.000000</td>\n",
              "      <td>6598.000000</td>\n",
              "      <td>6598.000000</td>\n",
              "      <td>6598.000000</td>\n",
              "      <td>6598.000000</td>\n",
              "      <td>6598.000000</td>\n",
              "      <td>6598.000000</td>\n",
              "      <td>6598.000000</td>\n",
              "      <td>6598.000000</td>\n",
              "      <td>6598.000000</td>\n",
              "      <td>6598.000000</td>\n",
              "      <td>6598.000000</td>\n",
              "      <td>6598.000000</td>\n",
              "      <td>6598.000000</td>\n",
              "      <td>6598.000000</td>\n",
              "      <td>6598.000000</td>\n",
              "      <td>6598.000000</td>\n",
              "    </tr>\n",
              "    <tr>\n",
              "      <th>mean</th>\n",
              "      <td>3299.50000</td>\n",
              "      <td>58.945135</td>\n",
              "      <td>-119.128524</td>\n",
              "      <td>-73.146560</td>\n",
              "      <td>-0.628372</td>\n",
              "      <td>-103.533495</td>\n",
              "      <td>18.359806</td>\n",
              "      <td>-14.108821</td>\n",
              "      <td>-1.858290</td>\n",
              "      <td>-86.003031</td>\n",
              "      <td>-44.495756</td>\n",
              "      <td>-119.456502</td>\n",
              "      <td>-84.929221</td>\n",
              "      <td>-61.911185</td>\n",
              "      <td>-127.935283</td>\n",
              "      <td>-123.005153</td>\n",
              "      <td>-265.690967</td>\n",
              "      <td>-53.415732</td>\n",
              "      <td>-67.741285</td>\n",
              "      <td>-52.352531</td>\n",
              "      <td>-44.902698</td>\n",
              "      <td>-75.645953</td>\n",
              "      <td>-55.783419</td>\n",
              "      <td>-61.619127</td>\n",
              "      <td>72.506062</td>\n",
              "      <td>32.285238</td>\n",
              "      <td>-69.659139</td>\n",
              "      <td>-15.361018</td>\n",
              "      <td>-102.665959</td>\n",
              "      <td>8.520764</td>\n",
              "      <td>12.553956</td>\n",
              "      <td>-82.314186</td>\n",
              "      <td>25.436193</td>\n",
              "      <td>-34.503183</td>\n",
              "      <td>-78.915732</td>\n",
              "      <td>-73.199000</td>\n",
              "      <td>115.882995</td>\n",
              "      <td>-115.562746</td>\n",
              "      <td>-7.853289</td>\n",
              "      <td>-75.578509</td>\n",
              "      <td>...</td>\n",
              "      <td>-19.476811</td>\n",
              "      <td>-68.070627</td>\n",
              "      <td>-94.963474</td>\n",
              "      <td>2.993786</td>\n",
              "      <td>-36.652774</td>\n",
              "      <td>-79.191422</td>\n",
              "      <td>-90.778266</td>\n",
              "      <td>-95.868142</td>\n",
              "      <td>-28.259473</td>\n",
              "      <td>-8.521067</td>\n",
              "      <td>-37.599121</td>\n",
              "      <td>-67.789330</td>\n",
              "      <td>-51.976508</td>\n",
              "      <td>-65.693089</td>\n",
              "      <td>-0.443165</td>\n",
              "      <td>1.331464</td>\n",
              "      <td>-21.754319</td>\n",
              "      <td>-165.748863</td>\n",
              "      <td>-87.364050</td>\n",
              "      <td>-113.114580</td>\n",
              "      <td>-18.523644</td>\n",
              "      <td>-41.386481</td>\n",
              "      <td>8.755077</td>\n",
              "      <td>-55.026069</td>\n",
              "      <td>-61.105335</td>\n",
              "      <td>-54.810397</td>\n",
              "      <td>-76.831161</td>\n",
              "      <td>33.209912</td>\n",
              "      <td>-61.212337</td>\n",
              "      <td>-210.975447</td>\n",
              "      <td>-184.798272</td>\n",
              "      <td>-75.795696</td>\n",
              "      <td>-26.073204</td>\n",
              "      <td>64.616702</td>\n",
              "      <td>112.037739</td>\n",
              "      <td>201.760230</td>\n",
              "      <td>-47.488330</td>\n",
              "      <td>-150.259927</td>\n",
              "      <td>41.770233</td>\n",
              "      <td>0.154138</td>\n",
              "    </tr>\n",
              "    <tr>\n",
              "      <th>std</th>\n",
              "      <td>1904.82287</td>\n",
              "      <td>53.249007</td>\n",
              "      <td>90.813375</td>\n",
              "      <td>67.956235</td>\n",
              "      <td>80.444617</td>\n",
              "      <td>64.387559</td>\n",
              "      <td>80.593655</td>\n",
              "      <td>115.315673</td>\n",
              "      <td>90.372537</td>\n",
              "      <td>108.326676</td>\n",
              "      <td>72.088903</td>\n",
              "      <td>108.911397</td>\n",
              "      <td>79.541410</td>\n",
              "      <td>61.444281</td>\n",
              "      <td>101.191126</td>\n",
              "      <td>98.009158</td>\n",
              "      <td>70.647329</td>\n",
              "      <td>117.237608</td>\n",
              "      <td>61.403085</td>\n",
              "      <td>82.503477</td>\n",
              "      <td>79.304489</td>\n",
              "      <td>75.187995</td>\n",
              "      <td>101.908604</td>\n",
              "      <td>94.524709</td>\n",
              "      <td>123.334433</td>\n",
              "      <td>108.105908</td>\n",
              "      <td>101.325550</td>\n",
              "      <td>91.621335</td>\n",
              "      <td>73.778232</td>\n",
              "      <td>63.484770</td>\n",
              "      <td>126.086157</td>\n",
              "      <td>80.225924</td>\n",
              "      <td>106.627993</td>\n",
              "      <td>57.816952</td>\n",
              "      <td>118.201270</td>\n",
              "      <td>75.350809</td>\n",
              "      <td>57.070192</td>\n",
              "      <td>104.682519</td>\n",
              "      <td>85.732778</td>\n",
              "      <td>70.534415</td>\n",
              "      <td>...</td>\n",
              "      <td>130.607205</td>\n",
              "      <td>70.016546</td>\n",
              "      <td>98.100733</td>\n",
              "      <td>60.633027</td>\n",
              "      <td>84.316386</td>\n",
              "      <td>61.733776</td>\n",
              "      <td>68.098995</td>\n",
              "      <td>87.253395</td>\n",
              "      <td>61.664300</td>\n",
              "      <td>97.997434</td>\n",
              "      <td>77.580190</td>\n",
              "      <td>94.753428</td>\n",
              "      <td>64.344336</td>\n",
              "      <td>69.094605</td>\n",
              "      <td>82.410293</td>\n",
              "      <td>103.746483</td>\n",
              "      <td>103.113954</td>\n",
              "      <td>54.087579</td>\n",
              "      <td>51.177725</td>\n",
              "      <td>21.463582</td>\n",
              "      <td>63.048333</td>\n",
              "      <td>73.864481</td>\n",
              "      <td>83.274158</td>\n",
              "      <td>60.100098</td>\n",
              "      <td>70.788743</td>\n",
              "      <td>67.538140</td>\n",
              "      <td>76.908685</td>\n",
              "      <td>98.511502</td>\n",
              "      <td>97.547356</td>\n",
              "      <td>83.710890</td>\n",
              "      <td>107.819514</td>\n",
              "      <td>127.861271</td>\n",
              "      <td>69.727964</td>\n",
              "      <td>100.861935</td>\n",
              "      <td>72.835040</td>\n",
              "      <td>59.526751</td>\n",
              "      <td>55.069365</td>\n",
              "      <td>76.019023</td>\n",
              "      <td>94.116085</td>\n",
              "      <td>0.361108</td>\n",
              "    </tr>\n",
              "    <tr>\n",
              "      <th>min</th>\n",
              "      <td>1.00000</td>\n",
              "      <td>-31.000000</td>\n",
              "      <td>-199.000000</td>\n",
              "      <td>-167.000000</td>\n",
              "      <td>-114.000000</td>\n",
              "      <td>-118.000000</td>\n",
              "      <td>-183.000000</td>\n",
              "      <td>-171.000000</td>\n",
              "      <td>-225.000000</td>\n",
              "      <td>-245.000000</td>\n",
              "      <td>-286.000000</td>\n",
              "      <td>-328.000000</td>\n",
              "      <td>-321.000000</td>\n",
              "      <td>-305.000000</td>\n",
              "      <td>-342.000000</td>\n",
              "      <td>-294.000000</td>\n",
              "      <td>-327.000000</td>\n",
              "      <td>-224.000000</td>\n",
              "      <td>-308.000000</td>\n",
              "      <td>-286.000000</td>\n",
              "      <td>-252.000000</td>\n",
              "      <td>-295.000000</td>\n",
              "      <td>-185.000000</td>\n",
              "      <td>-253.000000</td>\n",
              "      <td>-76.000000</td>\n",
              "      <td>-100.000000</td>\n",
              "      <td>-242.000000</td>\n",
              "      <td>-205.000000</td>\n",
              "      <td>-166.000000</td>\n",
              "      <td>-142.000000</td>\n",
              "      <td>-162.000000</td>\n",
              "      <td>-117.000000</td>\n",
              "      <td>-143.000000</td>\n",
              "      <td>-139.000000</td>\n",
              "      <td>-279.000000</td>\n",
              "      <td>-160.000000</td>\n",
              "      <td>-7.000000</td>\n",
              "      <td>-175.000000</td>\n",
              "      <td>-190.000000</td>\n",
              "      <td>-148.000000</td>\n",
              "      <td>...</td>\n",
              "      <td>-221.000000</td>\n",
              "      <td>-307.000000</td>\n",
              "      <td>-189.000000</td>\n",
              "      <td>-123.000000</td>\n",
              "      <td>-140.000000</td>\n",
              "      <td>-319.000000</td>\n",
              "      <td>-338.000000</td>\n",
              "      <td>-336.000000</td>\n",
              "      <td>-196.000000</td>\n",
              "      <td>-197.000000</td>\n",
              "      <td>-199.000000</td>\n",
              "      <td>-243.000000</td>\n",
              "      <td>-283.000000</td>\n",
              "      <td>-290.000000</td>\n",
              "      <td>-185.000000</td>\n",
              "      <td>-157.000000</td>\n",
              "      <td>-171.000000</td>\n",
              "      <td>-179.000000</td>\n",
              "      <td>-106.000000</td>\n",
              "      <td>-136.000000</td>\n",
              "      <td>-200.000000</td>\n",
              "      <td>-213.000000</td>\n",
              "      <td>-190.000000</td>\n",
              "      <td>-140.000000</td>\n",
              "      <td>-128.000000</td>\n",
              "      <td>-114.000000</td>\n",
              "      <td>-173.000000</td>\n",
              "      <td>-143.000000</td>\n",
              "      <td>-198.000000</td>\n",
              "      <td>-257.000000</td>\n",
              "      <td>-328.000000</td>\n",
              "      <td>-219.000000</td>\n",
              "      <td>-136.000000</td>\n",
              "      <td>-120.000000</td>\n",
              "      <td>-69.000000</td>\n",
              "      <td>73.000000</td>\n",
              "      <td>-289.000000</td>\n",
              "      <td>-428.000000</td>\n",
              "      <td>-471.000000</td>\n",
              "      <td>0.000000</td>\n",
              "    </tr>\n",
              "    <tr>\n",
              "      <th>25%</th>\n",
              "      <td>1650.25000</td>\n",
              "      <td>37.000000</td>\n",
              "      <td>-193.000000</td>\n",
              "      <td>-137.000000</td>\n",
              "      <td>-70.000000</td>\n",
              "      <td>-117.000000</td>\n",
              "      <td>-28.000000</td>\n",
              "      <td>-159.000000</td>\n",
              "      <td>-85.000000</td>\n",
              "      <td>-217.000000</td>\n",
              "      <td>-96.750000</td>\n",
              "      <td>-207.000000</td>\n",
              "      <td>-114.000000</td>\n",
              "      <td>-85.000000</td>\n",
              "      <td>-199.750000</td>\n",
              "      <td>-195.000000</td>\n",
              "      <td>-301.000000</td>\n",
              "      <td>-177.000000</td>\n",
              "      <td>-85.000000</td>\n",
              "      <td>-98.000000</td>\n",
              "      <td>-60.000000</td>\n",
              "      <td>-118.000000</td>\n",
              "      <td>-180.000000</td>\n",
              "      <td>-154.000000</td>\n",
              "      <td>-61.000000</td>\n",
              "      <td>-95.000000</td>\n",
              "      <td>-182.000000</td>\n",
              "      <td>-105.000000</td>\n",
              "      <td>-154.000000</td>\n",
              "      <td>-44.000000</td>\n",
              "      <td>-135.000000</td>\n",
              "      <td>-116.000000</td>\n",
              "      <td>-91.000000</td>\n",
              "      <td>-81.000000</td>\n",
              "      <td>-211.000000</td>\n",
              "      <td>-136.000000</td>\n",
              "      <td>78.000000</td>\n",
              "      <td>-174.000000</td>\n",
              "      <td>-82.000000</td>\n",
              "      <td>-144.000000</td>\n",
              "      <td>...</td>\n",
              "      <td>-170.000000</td>\n",
              "      <td>-112.000000</td>\n",
              "      <td>-187.000000</td>\n",
              "      <td>-43.000000</td>\n",
              "      <td>-115.000000</td>\n",
              "      <td>-94.000000</td>\n",
              "      <td>-126.000000</td>\n",
              "      <td>-172.000000</td>\n",
              "      <td>-84.000000</td>\n",
              "      <td>-111.750000</td>\n",
              "      <td>-88.000000</td>\n",
              "      <td>-164.000000</td>\n",
              "      <td>-71.000000</td>\n",
              "      <td>-101.000000</td>\n",
              "      <td>-83.750000</td>\n",
              "      <td>-133.000000</td>\n",
              "      <td>-156.000000</td>\n",
              "      <td>-178.000000</td>\n",
              "      <td>-103.000000</td>\n",
              "      <td>-121.000000</td>\n",
              "      <td>-59.000000</td>\n",
              "      <td>-90.000000</td>\n",
              "      <td>-45.000000</td>\n",
              "      <td>-101.000000</td>\n",
              "      <td>-123.000000</td>\n",
              "      <td>-112.000000</td>\n",
              "      <td>-166.000000</td>\n",
              "      <td>-43.000000</td>\n",
              "      <td>-183.000000</td>\n",
              "      <td>-240.000000</td>\n",
              "      <td>-272.000000</td>\n",
              "      <td>-205.000000</td>\n",
              "      <td>-70.000000</td>\n",
              "      <td>-18.000000</td>\n",
              "      <td>71.000000</td>\n",
              "      <td>166.000000</td>\n",
              "      <td>-68.000000</td>\n",
              "      <td>-179.000000</td>\n",
              "      <td>-9.000000</td>\n",
              "      <td>0.000000</td>\n",
              "    </tr>\n",
              "    <tr>\n",
              "      <th>50%</th>\n",
              "      <td>3299.50000</td>\n",
              "      <td>44.000000</td>\n",
              "      <td>-149.000000</td>\n",
              "      <td>-99.000000</td>\n",
              "      <td>-25.000000</td>\n",
              "      <td>-117.000000</td>\n",
              "      <td>33.000000</td>\n",
              "      <td>27.000000</td>\n",
              "      <td>19.000000</td>\n",
              "      <td>-40.000000</td>\n",
              "      <td>-29.000000</td>\n",
              "      <td>-83.000000</td>\n",
              "      <td>-86.000000</td>\n",
              "      <td>-66.000000</td>\n",
              "      <td>-92.000000</td>\n",
              "      <td>-89.000000</td>\n",
              "      <td>-290.000000</td>\n",
              "      <td>-53.000000</td>\n",
              "      <td>-69.000000</td>\n",
              "      <td>-39.000000</td>\n",
              "      <td>-38.000000</td>\n",
              "      <td>-63.000000</td>\n",
              "      <td>-19.000000</td>\n",
              "      <td>-41.000000</td>\n",
              "      <td>96.000000</td>\n",
              "      <td>80.000000</td>\n",
              "      <td>-35.000000</td>\n",
              "      <td>23.000000</td>\n",
              "      <td>-132.000000</td>\n",
              "      <td>9.000000</td>\n",
              "      <td>69.000000</td>\n",
              "      <td>-116.000000</td>\n",
              "      <td>11.500000</td>\n",
              "      <td>-24.000000</td>\n",
              "      <td>-32.000000</td>\n",
              "      <td>-120.000000</td>\n",
              "      <td>102.000000</td>\n",
              "      <td>-167.000000</td>\n",
              "      <td>6.000000</td>\n",
              "      <td>-104.000000</td>\n",
              "      <td>...</td>\n",
              "      <td>54.000000</td>\n",
              "      <td>-70.000000</td>\n",
              "      <td>-131.000000</td>\n",
              "      <td>18.000000</td>\n",
              "      <td>-57.500000</td>\n",
              "      <td>-78.000000</td>\n",
              "      <td>-87.000000</td>\n",
              "      <td>-80.500000</td>\n",
              "      <td>-26.000000</td>\n",
              "      <td>39.000000</td>\n",
              "      <td>-47.000000</td>\n",
              "      <td>-34.500000</td>\n",
              "      <td>-48.000000</td>\n",
              "      <td>-64.000000</td>\n",
              "      <td>12.000000</td>\n",
              "      <td>42.000000</td>\n",
              "      <td>17.000000</td>\n",
              "      <td>-178.000000</td>\n",
              "      <td>-103.000000</td>\n",
              "      <td>-119.000000</td>\n",
              "      <td>-31.000000</td>\n",
              "      <td>-52.000000</td>\n",
              "      <td>39.000000</td>\n",
              "      <td>-63.000000</td>\n",
              "      <td>-113.000000</td>\n",
              "      <td>-111.000000</td>\n",
              "      <td>-61.000000</td>\n",
              "      <td>5.000000</td>\n",
              "      <td>-31.000000</td>\n",
              "      <td>-236.000000</td>\n",
              "      <td>-234.000000</td>\n",
              "      <td>-131.000000</td>\n",
              "      <td>-21.000000</td>\n",
              "      <td>61.500000</td>\n",
              "      <td>107.000000</td>\n",
              "      <td>191.000000</td>\n",
              "      <td>-60.000000</td>\n",
              "      <td>-150.000000</td>\n",
              "      <td>27.000000</td>\n",
              "      <td>0.000000</td>\n",
              "    </tr>\n",
              "    <tr>\n",
              "      <th>75%</th>\n",
              "      <td>4948.75000</td>\n",
              "      <td>53.000000</td>\n",
              "      <td>-95.000000</td>\n",
              "      <td>-19.000000</td>\n",
              "      <td>42.000000</td>\n",
              "      <td>-116.000000</td>\n",
              "      <td>74.000000</td>\n",
              "      <td>57.000000</td>\n",
              "      <td>61.000000</td>\n",
              "      <td>-21.000000</td>\n",
              "      <td>4.000000</td>\n",
              "      <td>-46.000000</td>\n",
              "      <td>-35.000000</td>\n",
              "      <td>-45.000000</td>\n",
              "      <td>-72.000000</td>\n",
              "      <td>-73.000000</td>\n",
              "      <td>-273.000000</td>\n",
              "      <td>53.000000</td>\n",
              "      <td>-46.000000</td>\n",
              "      <td>-6.000000</td>\n",
              "      <td>-11.000000</td>\n",
              "      <td>-37.000000</td>\n",
              "      <td>-9.000000</td>\n",
              "      <td>8.000000</td>\n",
              "      <td>185.000000</td>\n",
              "      <td>109.000000</td>\n",
              "      <td>10.000000</td>\n",
              "      <td>48.000000</td>\n",
              "      <td>-85.000000</td>\n",
              "      <td>33.000000</td>\n",
              "      <td>104.000000</td>\n",
              "      <td>-108.000000</td>\n",
              "      <td>131.000000</td>\n",
              "      <td>-11.000000</td>\n",
              "      <td>14.000000</td>\n",
              "      <td>-22.000000</td>\n",
              "      <td>151.000000</td>\n",
              "      <td>-140.000000</td>\n",
              "      <td>57.000000</td>\n",
              "      <td>-25.000000</td>\n",
              "      <td>...</td>\n",
              "      <td>81.000000</td>\n",
              "      <td>-30.000000</td>\n",
              "      <td>-25.000000</td>\n",
              "      <td>37.000000</td>\n",
              "      <td>20.000000</td>\n",
              "      <td>-64.000000</td>\n",
              "      <td>-61.000000</td>\n",
              "      <td>-37.000000</td>\n",
              "      <td>-10.000000</td>\n",
              "      <td>53.000000</td>\n",
              "      <td>-16.000000</td>\n",
              "      <td>-3.000000</td>\n",
              "      <td>-33.000000</td>\n",
              "      <td>-36.000000</td>\n",
              "      <td>67.000000</td>\n",
              "      <td>78.000000</td>\n",
              "      <td>60.000000</td>\n",
              "      <td>-178.000000</td>\n",
              "      <td>-101.000000</td>\n",
              "      <td>-115.000000</td>\n",
              "      <td>15.000000</td>\n",
              "      <td>-17.000000</td>\n",
              "      <td>57.000000</td>\n",
              "      <td>-25.000000</td>\n",
              "      <td>1.000000</td>\n",
              "      <td>8.000000</td>\n",
              "      <td>-41.000000</td>\n",
              "      <td>122.000000</td>\n",
              "      <td>19.000000</td>\n",
              "      <td>-231.000000</td>\n",
              "      <td>-80.000000</td>\n",
              "      <td>52.000000</td>\n",
              "      <td>9.000000</td>\n",
              "      <td>149.000000</td>\n",
              "      <td>129.000000</td>\n",
              "      <td>215.000000</td>\n",
              "      <td>-45.000000</td>\n",
              "      <td>-120.000000</td>\n",
              "      <td>119.000000</td>\n",
              "      <td>0.000000</td>\n",
              "    </tr>\n",
              "    <tr>\n",
              "      <th>max</th>\n",
              "      <td>6598.00000</td>\n",
              "      <td>292.000000</td>\n",
              "      <td>95.000000</td>\n",
              "      <td>81.000000</td>\n",
              "      <td>161.000000</td>\n",
              "      <td>325.000000</td>\n",
              "      <td>200.000000</td>\n",
              "      <td>220.000000</td>\n",
              "      <td>320.000000</td>\n",
              "      <td>147.000000</td>\n",
              "      <td>231.000000</td>\n",
              "      <td>176.000000</td>\n",
              "      <td>184.000000</td>\n",
              "      <td>195.000000</td>\n",
              "      <td>158.000000</td>\n",
              "      <td>172.000000</td>\n",
              "      <td>80.000000</td>\n",
              "      <td>138.000000</td>\n",
              "      <td>189.000000</td>\n",
              "      <td>225.000000</td>\n",
              "      <td>227.000000</td>\n",
              "      <td>194.000000</td>\n",
              "      <td>190.000000</td>\n",
              "      <td>213.000000</td>\n",
              "      <td>317.000000</td>\n",
              "      <td>277.000000</td>\n",
              "      <td>183.000000</td>\n",
              "      <td>164.000000</td>\n",
              "      <td>145.000000</td>\n",
              "      <td>174.000000</td>\n",
              "      <td>266.000000</td>\n",
              "      <td>309.000000</td>\n",
              "      <td>310.000000</td>\n",
              "      <td>207.000000</td>\n",
              "      <td>160.000000</td>\n",
              "      <td>220.000000</td>\n",
              "      <td>324.000000</td>\n",
              "      <td>147.000000</td>\n",
              "      <td>187.000000</td>\n",
              "      <td>107.000000</td>\n",
              "      <td>...</td>\n",
              "      <td>241.000000</td>\n",
              "      <td>206.000000</td>\n",
              "      <td>122.000000</td>\n",
              "      <td>281.000000</td>\n",
              "      <td>255.000000</td>\n",
              "      <td>176.000000</td>\n",
              "      <td>169.000000</td>\n",
              "      <td>219.000000</td>\n",
              "      <td>125.000000</td>\n",
              "      <td>186.000000</td>\n",
              "      <td>130.000000</td>\n",
              "      <td>202.000000</td>\n",
              "      <td>203.000000</td>\n",
              "      <td>188.000000</td>\n",
              "      <td>184.000000</td>\n",
              "      <td>239.000000</td>\n",
              "      <td>208.000000</td>\n",
              "      <td>213.000000</td>\n",
              "      <td>261.000000</td>\n",
              "      <td>172.000000</td>\n",
              "      <td>130.000000</td>\n",
              "      <td>117.000000</td>\n",
              "      <td>185.000000</td>\n",
              "      <td>244.000000</td>\n",
              "      <td>153.000000</td>\n",
              "      <td>211.000000</td>\n",
              "      <td>120.000000</td>\n",
              "      <td>379.000000</td>\n",
              "      <td>153.000000</td>\n",
              "      <td>145.000000</td>\n",
              "      <td>94.000000</td>\n",
              "      <td>179.000000</td>\n",
              "      <td>192.000000</td>\n",
              "      <td>411.000000</td>\n",
              "      <td>355.000000</td>\n",
              "      <td>625.000000</td>\n",
              "      <td>295.000000</td>\n",
              "      <td>168.000000</td>\n",
              "      <td>367.000000</td>\n",
              "      <td>1.000000</td>\n",
              "    </tr>\n",
              "  </tbody>\n",
              "</table>\n",
              "<p>8 rows × 168 columns</p>\n",
              "</div>"
            ],
            "text/plain": [
              "               ID           f1  ...         f166        class\n",
              "count  6598.00000  6598.000000  ...  6598.000000  6598.000000\n",
              "mean   3299.50000    58.945135  ...    41.770233     0.154138\n",
              "std    1904.82287    53.249007  ...    94.116085     0.361108\n",
              "min       1.00000   -31.000000  ...  -471.000000     0.000000\n",
              "25%    1650.25000    37.000000  ...    -9.000000     0.000000\n",
              "50%    3299.50000    44.000000  ...    27.000000     0.000000\n",
              "75%    4948.75000    53.000000  ...   119.000000     0.000000\n",
              "max    6598.00000   292.000000  ...   367.000000     1.000000\n",
              "\n",
              "[8 rows x 168 columns]"
            ]
          },
          "metadata": {
            "tags": []
          },
          "execution_count": 4
        }
      ]
    },
    {
      "cell_type": "code",
      "metadata": {
        "id": "LQkgxvFW4-wX",
        "colab_type": "code",
        "outputId": "5d0414c2-f198-4ba1-b505-3e5f1400d73e",
        "colab": {
          "base_uri": "https://localhost:8080/",
          "height": 105
        }
      },
      "source": [
        "data.info()"
      ],
      "execution_count": 0,
      "outputs": [
        {
          "output_type": "stream",
          "text": [
            "<class 'pandas.core.frame.DataFrame'>\n",
            "RangeIndex: 6598 entries, 0 to 6597\n",
            "Columns: 170 entries, ID to class\n",
            "dtypes: int64(168), object(2)\n",
            "memory usage: 8.6+ MB\n"
          ],
          "name": "stdout"
        }
      ]
    },
    {
      "cell_type": "code",
      "metadata": {
        "id": "nczoQUB75a7X",
        "colab_type": "code",
        "outputId": "3d306e26-af37-4c88-9985-8fe8f0505aa3",
        "colab": {
          "base_uri": "https://localhost:8080/",
          "height": 501
        }
      },
      "source": [
        "plt.figure(figsize = [10,8])\n",
        "plt.plot(data['f1'])"
      ],
      "execution_count": 0,
      "outputs": [
        {
          "output_type": "execute_result",
          "data": {
            "text/plain": [
              "[<matplotlib.lines.Line2D at 0x7fd10e455be0>]"
            ]
          },
          "metadata": {
            "tags": []
          },
          "execution_count": 6
        },
        {
          "output_type": "display_data",
          "data": {
            "image/png": "[encoded data removed]",
            "text/plain": [
              "<Figure size 720x576 with 1 Axes>"
            ]
          },
          "metadata": {
            "tags": []
          }
        }
      ]
    },
    {
      "cell_type": "code",
      "metadata": {
        "id": "deGWyN6X5jVO",
        "colab_type": "code",
        "outputId": "293a1467-2049-48d6-f6c0-b04b0315b79f",
        "colab": {
          "base_uri": "https://localhost:8080/",
          "height": 501
        }
      },
      "source": [
        "plt.figure(figsize = [10,8])\n",
        "plt.plot(data['f2'])"
      ],
      "execution_count": 0,
      "outputs": [
        {
          "output_type": "execute_result",
          "data": {
            "text/plain": [
              "[<matplotlib.lines.Line2D at 0x7fd10f3ae0b8>]"
            ]
          },
          "metadata": {
            "tags": []
          },
          "execution_count": 7
        },
        {
          "output_type": "display_data",
          "data": {
            "image/png": "[encoded data removed]",
            "text/plain": [
              "<Figure size 720x576 with 1 Axes>"
            ]
          },
          "metadata": {
            "tags": []
          }
        }
      ]
    },
    {
      "cell_type": "code",
      "metadata": {
        "id": "tJVcptBA5y4s",
        "colab_type": "code",
        "outputId": "d43be75a-57d9-4ab3-82eb-6d7c422d54bc",
        "colab": {
          "base_uri": "https://localhost:8080/",
          "height": 34
        }
      },
      "source": [
        "data.shape"
      ],
      "execution_count": 0,
      "outputs": [
        {
          "output_type": "execute_result",
          "data": {
            "text/plain": [
              "(6598, 170)"
            ]
          },
          "metadata": {
            "tags": []
          },
          "execution_count": 8
        }
      ]
    },
    {
      "cell_type": "markdown",
      "metadata": {
        "id": "jmIsI52Chf2L",
        "colab_type": "text"
      },
      "source": [
        "Cheacking if any null values is present or not"
      ]
    },
    {
      "cell_type": "code",
      "metadata": {
        "id": "xicTmzLN5_hv",
        "colab_type": "code",
        "outputId": "f6c865ec-f6b3-45ef-e968-7625210b964d",
        "colab": {
          "base_uri": "https://localhost:8080/",
          "height": 228
        }
      },
      "source": [
        "data.isna().sum()"
      ],
      "execution_count": 0,
      "outputs": [
        {
          "output_type": "execute_result",
          "data": {
            "text/plain": [
              "ID                   0\n",
              "molecule_name        0\n",
              "conformation_name    0\n",
              "f1                   0\n",
              "f2                   0\n",
              "                    ..\n",
              "f163                 0\n",
              "f164                 0\n",
              "f165                 0\n",
              "f166                 0\n",
              "class                0\n",
              "Length: 170, dtype: int64"
            ]
          },
          "metadata": {
            "tags": []
          },
          "execution_count": 9
        }
      ]
    },
    {
      "cell_type": "code",
      "metadata": {
        "id": "2-HMk-0X6Ebp",
        "colab_type": "code",
        "outputId": "cae85364-5b16-4466-9ed1-789da9dfdb97",
        "colab": {
          "base_uri": "https://localhost:8080/",
          "height": 228
        }
      },
      "source": [
        "round(data.isnull().sum()/len(data)*100,2)"
      ],
      "execution_count": 0,
      "outputs": [
        {
          "output_type": "execute_result",
          "data": {
            "text/plain": [
              "ID                   0.0\n",
              "molecule_name        0.0\n",
              "conformation_name    0.0\n",
              "f1                   0.0\n",
              "f2                   0.0\n",
              "                    ... \n",
              "f163                 0.0\n",
              "f164                 0.0\n",
              "f165                 0.0\n",
              "f166                 0.0\n",
              "class                0.0\n",
              "Length: 170, dtype: float64"
            ]
          },
          "metadata": {
            "tags": []
          },
          "execution_count": 10
        }
      ]
    },
    {
      "cell_type": "markdown",
      "metadata": {
        "id": "4QIqmGDyhnoy",
        "colab_type": "text"
      },
      "source": [
        "Create a correlation matrix and removing columns with higher correlations"
      ]
    },
    {
      "cell_type": "code",
      "metadata": {
        "id": "IQ_4yfdMFfRM",
        "colab_type": "code",
        "colab": {}
      },
      "source": [
        "corr_matrix = data.corr().abs()\n",
        "z = corr_matrix.where(np.triu(np.ones(corr_matrix.shape), k=1).astype(np.bool))\n",
        "drp = [column for column in upper.columns if any(z[column] > 0.92)]\n"
      ],
      "execution_count": 0,
      "outputs": []
    },
    {
      "cell_type": "code",
      "metadata": {
        "id": "NX1LRUEyFlwl",
        "colab_type": "code",
        "colab": {}
      },
      "source": [
        "data = data.drop(columns = drp)"
      ],
      "execution_count": 0,
      "outputs": []
    },
    {
      "cell_type": "code",
      "metadata": {
        "id": "2TAKu6MLF3Gf",
        "colab_type": "code",
        "outputId": "2567a121-a56f-472f-fa94-559f4214bc1e",
        "colab": {
          "base_uri": "https://localhost:8080/",
          "height": 34
        }
      },
      "source": [
        "data.shape"
      ],
      "execution_count": 0,
      "outputs": [
        {
          "output_type": "execute_result",
          "data": {
            "text/plain": [
              "(6598, 117)"
            ]
          },
          "metadata": {
            "tags": []
          },
          "execution_count": 13
        }
      ]
    },
    {
      "cell_type": "markdown",
      "metadata": {
        "id": "90YAqVxPiEui",
        "colab_type": "text"
      },
      "source": [
        "Looking over the main column for classification"
      ]
    },
    {
      "cell_type": "code",
      "metadata": {
        "id": "gSqoKFKUBF1M",
        "colab_type": "code",
        "colab": {}
      },
      "source": [
        "data_new = data['class'].values"
      ],
      "execution_count": 0,
      "outputs": []
    },
    {
      "cell_type": "code",
      "metadata": {
        "id": "6nuQMz_j9KEU",
        "colab_type": "code",
        "outputId": "0f086537-525d-415b-c3c4-d60eeae16596",
        "colab": {
          "base_uri": "https://localhost:8080/",
          "height": 34
        }
      },
      "source": [
        "data_new.shape"
      ],
      "execution_count": 0,
      "outputs": [
        {
          "output_type": "execute_result",
          "data": {
            "text/plain": [
              "(6598,)"
            ]
          },
          "metadata": {
            "tags": []
          },
          "execution_count": 15
        }
      ]
    },
    {
      "cell_type": "code",
      "metadata": {
        "id": "ctY950yK-EHB",
        "colab_type": "code",
        "colab": {}
      },
      "source": [
        "data_new = data_new.reshape(-1,1)"
      ],
      "execution_count": 0,
      "outputs": []
    },
    {
      "cell_type": "code",
      "metadata": {
        "id": "LfKadmUs-H6O",
        "colab_type": "code",
        "outputId": "f3f051b9-1495-4c5c-d80c-6a0b47a8c64a",
        "colab": {
          "base_uri": "https://localhost:8080/",
          "height": 34
        }
      },
      "source": [
        "data_new.shape\n"
      ],
      "execution_count": 0,
      "outputs": [
        {
          "output_type": "execute_result",
          "data": {
            "text/plain": [
              "(6598, 1)"
            ]
          },
          "metadata": {
            "tags": []
          },
          "execution_count": 17
        }
      ]
    },
    {
      "cell_type": "markdown",
      "metadata": {
        "id": "CtPfgiWvisty",
        "colab_type": "text"
      },
      "source": [
        "Drop the column which is not so important"
      ]
    },
    {
      "cell_type": "code",
      "metadata": {
        "id": "V__98oUGBvr1",
        "colab_type": "code",
        "colab": {}
      },
      "source": [
        "data.drop(['ID','molecule_name','conformation_name','class'],axis=1, inplace = True )\n"
      ],
      "execution_count": 0,
      "outputs": []
    },
    {
      "cell_type": "code",
      "metadata": {
        "id": "5qNKeZRM-K-8",
        "colab_type": "code",
        "colab": {}
      },
      "source": [
        "from sklearn.model_selection import train_test_split\n",
        "X_train, X_test, y_train, y_test = train_test_split(data, data_new, test_size=0.2, random_state=30)\n"
      ],
      "execution_count": 0,
      "outputs": []
    },
    {
      "cell_type": "code",
      "metadata": {
        "id": "_O-XlMVMCRIG",
        "colab_type": "code",
        "outputId": "9fe2e260-5e27-42fa-9b8d-e13580eb8450",
        "colab": {
          "base_uri": "https://localhost:8080/",
          "height": 34
        }
      },
      "source": [
        "X_train.shape"
      ],
      "execution_count": 0,
      "outputs": [
        {
          "output_type": "execute_result",
          "data": {
            "text/plain": [
              "(5278, 113)"
            ]
          },
          "metadata": {
            "tags": []
          },
          "execution_count": 20
        }
      ]
    },
    {
      "cell_type": "code",
      "metadata": {
        "id": "R4tIoEk-CXET",
        "colab_type": "code",
        "outputId": "97d42243-e6f5-43bc-e7c9-2ab60cafe98c",
        "colab": {
          "base_uri": "https://localhost:8080/",
          "height": 81
        }
      },
      "source": [
        "import tensorflow as tf\n",
        "import keras\n",
        "from keras.models import Sequential\n",
        "from keras.layers import Dense, Dropout, Flatten\n",
        "from keras.layers import Conv2D, MaxPooling2D"
      ],
      "execution_count": 0,
      "outputs": [
        {
          "output_type": "display_data",
          "data": {
            "text/html": [
              "<p style=\"color: red;\">\n",
              "The default version of TensorFlow in Colab will soon switch to TensorFlow 2.x.<br>\n",
              "We recommend you <a href=\"https://www.tensorflow.org/guide/migrate\" target=\"_blank\">upgrade</a> now \n",
              "or ensure your notebook will continue to use TensorFlow 1.x via the <code>%tensorflow_version 1.x</code> magic:\n",
              "<a href=\"https://colab.research.google.com/notebooks/tensorflow_version.ipynb\" target=\"_blank\">more info</a>.</p>\n"
            ],
            "text/plain": [
              "<IPython.core.display.HTML object>"
            ]
          },
          "metadata": {
            "tags": []
          }
        },
        {
          "output_type": "stream",
          "text": [
            "Using TensorFlow backend.\n"
          ],
          "name": "stderr"
        }
      ]
    },
    {
      "cell_type": "code",
      "metadata": {
        "id": "dE908t5AE6e4",
        "colab_type": "code",
        "outputId": "d9882893-a0a1-45d4-9feb-a47337c84b3b",
        "colab": {
          "base_uri": "https://localhost:8080/",
          "height": 140
        }
      },
      "source": [
        "a=[1]*X_train.shape[0]\n",
        "X_train[\"temp\"]=a\n",
        "X_train.shape"
      ],
      "execution_count": 0,
      "outputs": [
        {
          "output_type": "stream",
          "text": [
            "/usr/local/lib/python3.6/dist-packages/ipykernel_launcher.py:2: SettingWithCopyWarning: \n",
            "A value is trying to be set on a copy of a slice from a DataFrame.\n",
            "Try using .loc[row_indexer,col_indexer] = value instead\n",
            "\n",
            "See the caveats in the documentation: http://pandas.pydata.org/pandas-docs/stable/user_guide/indexing.html#returning-a-view-versus-a-copy\n",
            "  \n"
          ],
          "name": "stderr"
        },
        {
          "output_type": "execute_result",
          "data": {
            "text/plain": [
              "(5278, 114)"
            ]
          },
          "metadata": {
            "tags": []
          },
          "execution_count": 22
        }
      ]
    },
    {
      "cell_type": "code",
      "metadata": {
        "id": "ud5TYHb4FBlb",
        "colab_type": "code",
        "outputId": "7e30e046-9683-42b7-e8dd-da67093070f7",
        "colab": {
          "base_uri": "https://localhost:8080/",
          "height": 140
        }
      },
      "source": [
        "b=[1]*X_test.shape[0]\n",
        "X_test[\"temp\"]=b\n",
        "X_test.shape"
      ],
      "execution_count": 0,
      "outputs": [
        {
          "output_type": "stream",
          "text": [
            "/usr/local/lib/python3.6/dist-packages/ipykernel_launcher.py:2: SettingWithCopyWarning: \n",
            "A value is trying to be set on a copy of a slice from a DataFrame.\n",
            "Try using .loc[row_indexer,col_indexer] = value instead\n",
            "\n",
            "See the caveats in the documentation: http://pandas.pydata.org/pandas-docs/stable/user_guide/indexing.html#returning-a-view-versus-a-copy\n",
            "  \n"
          ],
          "name": "stderr"
        },
        {
          "output_type": "execute_result",
          "data": {
            "text/plain": [
              "(1320, 114)"
            ]
          },
          "metadata": {
            "tags": []
          },
          "execution_count": 23
        }
      ]
    },
    {
      "cell_type": "code",
      "metadata": {
        "id": "aAUPFQQfDcF0",
        "colab_type": "code",
        "colab": {}
      },
      "source": [
        "Xtrain=X_train.values.reshape(X_train.shape[0],19,6,1)\n",
        "Xtest=X_test.values.reshape(X_test.shape[0],19,6,1)"
      ],
      "execution_count": 0,
      "outputs": []
    },
    {
      "cell_type": "code",
      "metadata": {
        "id": "JWxhAc8iCefw",
        "colab_type": "code",
        "outputId": "1dce65b6-4e14-4e59-90a8-6ea16b715db0",
        "colab": {
          "base_uri": "https://localhost:8080/",
          "height": 266
        }
      },
      "source": [
        "model=Sequential()\n",
        "model.add(Conv2D(32,kernel_size=(3,3),activation='relu',input_shape=(19,6,1)))\n",
        "model.add(Conv2D(64,(3,3),activation='relu'))\n",
        "model.add(MaxPooling2D(pool_size=(2,2)))\n",
        "model.add(Dropout(0.25))\n",
        "model.add(Flatten())\n",
        "model.add(Dense(128,activation='relu'))\n",
        "model.add(Dropout(0.5))\n",
        "model.add(Dense(1,activation='sigmoid'))"
      ],
      "execution_count": 0,
      "outputs": [
        {
          "output_type": "stream",
          "text": [
            "WARNING:tensorflow:From /usr/local/lib/python3.6/dist-packages/keras/backend/tensorflow_backend.py:66: The name tf.get_default_graph is deprecated. Please use tf.compat.v1.get_default_graph instead.\n",
            "\n",
            "WARNING:tensorflow:From /usr/local/lib/python3.6/dist-packages/keras/backend/tensorflow_backend.py:541: The name tf.placeholder is deprecated. Please use tf.compat.v1.placeholder instead.\n",
            "\n",
            "WARNING:tensorflow:From /usr/local/lib/python3.6/dist-packages/keras/backend/tensorflow_backend.py:4432: The name tf.random_uniform is deprecated. Please use tf.random.uniform instead.\n",
            "\n",
            "WARNING:tensorflow:From /usr/local/lib/python3.6/dist-packages/keras/backend/tensorflow_backend.py:4267: The name tf.nn.max_pool is deprecated. Please use tf.nn.max_pool2d instead.\n",
            "\n",
            "WARNING:tensorflow:From /usr/local/lib/python3.6/dist-packages/keras/backend/tensorflow_backend.py:148: The name tf.placeholder_with_default is deprecated. Please use tf.compat.v1.placeholder_with_default instead.\n",
            "\n",
            "WARNING:tensorflow:From /usr/local/lib/python3.6/dist-packages/keras/backend/tensorflow_backend.py:3733: calling dropout (from tensorflow.python.ops.nn_ops) with keep_prob is deprecated and will be removed in a future version.\n",
            "Instructions for updating:\n",
            "Please use `rate` instead of `keep_prob`. Rate should be set to `rate = 1 - keep_prob`.\n"
          ],
          "name": "stdout"
        }
      ]
    },
    {
      "cell_type": "code",
      "metadata": {
        "id": "ojiRw30DCy6G",
        "colab_type": "code",
        "outputId": "c50f4dfc-9c3e-4c9f-de7b-997fdbc82ff4",
        "colab": {
          "base_uri": "https://localhost:8080/",
          "height": 160
        }
      },
      "source": [
        "model.compile(loss=keras.losses.binary_crossentropy,optimizer=keras.optimizers.Adadelta(),metrics=['accuracy'])"
      ],
      "execution_count": 0,
      "outputs": [
        {
          "output_type": "stream",
          "text": [
            "WARNING:tensorflow:From /usr/local/lib/python3.6/dist-packages/keras/optimizers.py:793: The name tf.train.Optimizer is deprecated. Please use tf.compat.v1.train.Optimizer instead.\n",
            "\n",
            "WARNING:tensorflow:From /usr/local/lib/python3.6/dist-packages/keras/backend/tensorflow_backend.py:3657: The name tf.log is deprecated. Please use tf.math.log instead.\n",
            "\n",
            "WARNING:tensorflow:From /usr/local/lib/python3.6/dist-packages/tensorflow_core/python/ops/nn_impl.py:183: where (from tensorflow.python.ops.array_ops) is deprecated and will be removed in a future version.\n",
            "Instructions for updating:\n",
            "Use tf.where in 2.0, which has the same broadcast rule as np.where\n"
          ],
          "name": "stdout"
        }
      ]
    },
    {
      "cell_type": "code",
      "metadata": {
        "id": "u89fbRyjC48u",
        "colab_type": "code",
        "outputId": "8624938b-f4fc-4cc3-f36d-d6bdf51786a2",
        "colab": {
          "base_uri": "https://localhost:8080/",
          "height": 952
        }
      },
      "source": [
        "history = model.fit(Xtrain,y_train,batch_size=128,epochs=17,validation_data=(Xtest,y_test))\n",
        "score=model.evaluate(Xtest,y_test,verbose=0)\n",
        "print(score)"
      ],
      "execution_count": 0,
      "outputs": [
        {
          "output_type": "stream",
          "text": [
            "WARNING:tensorflow:From /usr/local/lib/python3.6/dist-packages/keras/backend/tensorflow_backend.py:1033: The name tf.assign_add is deprecated. Please use tf.compat.v1.assign_add instead.\n",
            "\n",
            "WARNING:tensorflow:From /usr/local/lib/python3.6/dist-packages/keras/backend/tensorflow_backend.py:1020: The name tf.assign is deprecated. Please use tf.compat.v1.assign instead.\n",
            "\n",
            "WARNING:tensorflow:From /usr/local/lib/python3.6/dist-packages/keras/backend/tensorflow_backend.py:3005: The name tf.Session is deprecated. Please use tf.compat.v1.Session instead.\n",
            "\n",
            "Train on 5278 samples, validate on 1320 samples\n",
            "Epoch 1/17\n",
            "WARNING:tensorflow:From /usr/local/lib/python3.6/dist-packages/keras/backend/tensorflow_backend.py:190: The name tf.get_default_session is deprecated. Please use tf.compat.v1.get_default_session instead.\n",
            "\n",
            "WARNING:tensorflow:From /usr/local/lib/python3.6/dist-packages/keras/backend/tensorflow_backend.py:197: The name tf.ConfigProto is deprecated. Please use tf.compat.v1.ConfigProto instead.\n",
            "\n",
            "WARNING:tensorflow:From /usr/local/lib/python3.6/dist-packages/keras/backend/tensorflow_backend.py:207: The name tf.global_variables is deprecated. Please use tf.compat.v1.global_variables instead.\n",
            "\n",
            "WARNING:tensorflow:From /usr/local/lib/python3.6/dist-packages/keras/backend/tensorflow_backend.py:216: The name tf.is_variable_initialized is deprecated. Please use tf.compat.v1.is_variable_initialized instead.\n",
            "\n",
            "WARNING:tensorflow:From /usr/local/lib/python3.6/dist-packages/keras/backend/tensorflow_backend.py:223: The name tf.variables_initializer is deprecated. Please use tf.compat.v1.variables_initializer instead.\n",
            "\n",
            "5278/5278 [==============================] - 2s 389us/step - loss: 2.5751 - acc: 0.8306 - val_loss: 2.3567 - val_acc: 0.8538\n",
            "Epoch 2/17\n",
            "5278/5278 [==============================] - 1s 215us/step - loss: 2.1645 - acc: 0.8480 - val_loss: 0.9259 - val_acc: 0.9015\n",
            "Epoch 3/17\n",
            "5278/5278 [==============================] - 1s 212us/step - loss: 1.0506 - acc: 0.8823 - val_loss: 0.2849 - val_acc: 0.9129\n",
            "Epoch 4/17\n",
            "5278/5278 [==============================] - 1s 223us/step - loss: 0.3620 - acc: 0.9007 - val_loss: 0.2025 - val_acc: 0.9273\n",
            "Epoch 5/17\n",
            "5278/5278 [==============================] - 1s 214us/step - loss: 0.2338 - acc: 0.9161 - val_loss: 0.1202 - val_acc: 0.9485\n",
            "Epoch 6/17\n",
            "5278/5278 [==============================] - 1s 215us/step - loss: 0.1779 - acc: 0.9286 - val_loss: 0.1122 - val_acc: 0.9530\n",
            "Epoch 7/17\n",
            "5278/5278 [==============================] - 1s 215us/step - loss: 0.1625 - acc: 0.9356 - val_loss: 0.1349 - val_acc: 0.9364\n",
            "Epoch 8/17\n",
            "5278/5278 [==============================] - 1s 212us/step - loss: 0.1396 - acc: 0.9432 - val_loss: 0.1286 - val_acc: 0.9455\n",
            "Epoch 9/17\n",
            "5278/5278 [==============================] - 1s 208us/step - loss: 0.1431 - acc: 0.9386 - val_loss: 0.0979 - val_acc: 0.9598\n",
            "Epoch 10/17\n",
            "5278/5278 [==============================] - 1s 210us/step - loss: 0.1211 - acc: 0.9490 - val_loss: 0.1299 - val_acc: 0.9386\n",
            "Epoch 11/17\n",
            "5278/5278 [==============================] - 1s 216us/step - loss: 0.1195 - acc: 0.9519 - val_loss: 0.0958 - val_acc: 0.9629\n",
            "Epoch 12/17\n",
            "5278/5278 [==============================] - 1s 215us/step - loss: 0.1041 - acc: 0.9564 - val_loss: 0.1062 - val_acc: 0.9538\n",
            "Epoch 13/17\n",
            "5278/5278 [==============================] - 1s 225us/step - loss: 0.0987 - acc: 0.9598 - val_loss: 0.0797 - val_acc: 0.9674\n",
            "Epoch 14/17\n",
            "5278/5278 [==============================] - 1s 222us/step - loss: 0.0974 - acc: 0.9577 - val_loss: 0.0741 - val_acc: 0.9705\n",
            "Epoch 15/17\n",
            "5278/5278 [==============================] - 1s 215us/step - loss: 0.0874 - acc: 0.9663 - val_loss: 0.0798 - val_acc: 0.9720\n",
            "Epoch 16/17\n",
            "5278/5278 [==============================] - 1s 215us/step - loss: 0.0909 - acc: 0.9615 - val_loss: 0.0720 - val_acc: 0.9712\n",
            "Epoch 17/17\n",
            "5278/5278 [==============================] - 1s 216us/step - loss: 0.0870 - acc: 0.9651 - val_loss: 0.0738 - val_acc: 0.9674\n",
            "[0.0738449754814307, 0.9674242424242424]\n"
          ],
          "name": "stdout"
        }
      ]
    },
    {
      "cell_type": "code",
      "metadata": {
        "id": "SPjrEtgSDEut",
        "colab_type": "code",
        "outputId": "1af30a26-5722-4687-e373-31756e23469c",
        "colab": {
          "base_uri": "https://localhost:8080/",
          "height": 295
        }
      },
      "source": [
        "\n",
        "plt.plot(history.history['acc'])\n",
        "plt.plot(history.history['val_acc'])\n",
        "plt.title('model accuracy')\n",
        "plt.ylabel('accuracy')\n",
        "plt.xlabel('epoch')\n",
        "plt.legend(['train', 'test'], loc='upper left')\n",
        "plt.show()"
      ],
      "execution_count": 0,
      "outputs": [
        {
          "output_type": "display_data",
          "data": {
            "image/png": "[encoded data removed]",
            "text/plain": [
              "<Figure size 432x288 with 1 Axes>"
            ]
          },
          "metadata": {
            "tags": []
          }
        }
      ]
    },
    {
      "cell_type": "code",
      "metadata": {
        "id": "j73Hf10vGnL4",
        "colab_type": "code",
        "outputId": "baaa0c9e-1f7b-4b69-8fd9-c8c6678c796a",
        "colab": {
          "base_uri": "https://localhost:8080/",
          "height": 295
        }
      },
      "source": [
        "plt.plot(history.history['loss'])\n",
        "plt.plot(history.history['val_loss'])\n",
        "plt.title('model loss')\n",
        "plt.ylabel('loss')\n",
        "plt.xlabel('epoch')\n",
        "plt.legend(['train', 'test'], loc='upper right')\n",
        "plt.show()"
      ],
      "execution_count": 0,
      "outputs": [
        {
          "output_type": "display_data",
          "data": {
            "image/png": "[encoded data removed]",
            "text/plain": [
              "<Figure size 432x288 with 1 Axes>"
            ]
          },
          "metadata": {
            "tags": []
          }
        }
      ]
    },
    {
      "cell_type": "code",
      "metadata": {
        "id": "CpzM2nw7G14L",
        "colab_type": "code",
        "outputId": "c655fc8a-53d6-4710-e5cb-6e9840f09788",
        "colab": {
          "base_uri": "https://localhost:8080/",
          "height": 87
        }
      },
      "source": [
        "print(\"f1_score:\",f1_score(y_test,model.predict_classes(Xtest)))\n",
        "print(\"recall:\",recall_score(y_test,model.predict_classes(Xtest)))\n",
        "print(\"Validation Loss:\",score[0])\n",
        "print(\"Validation Accuracy:\",score[1])"
      ],
      "execution_count": 0,
      "outputs": [
        {
          "output_type": "stream",
          "text": [
            "f1_score: 0.8821917808219177\n",
            "recall: 0.8341968911917098\n",
            "Validation Loss: 0.0738449754814307\n",
            "Validation Accuracy: 0.9674242424242424\n"
          ],
          "name": "stdout"
        }
      ]
    },
    {
      "cell_type": "code",
      "metadata": {
        "id": "d0-2b88PHWRu",
        "colab_type": "code",
        "colab": {}
      },
      "source": [
        ""
      ],
      "execution_count": 0,
      "outputs": []
    }
  ]
}